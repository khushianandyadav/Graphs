{
  "nbformat": 4,
  "nbformat_minor": 0,
  "metadata": {
    "colab": {
      "provenance": []
    },
    "kernelspec": {
      "name": "python3",
      "display_name": "Python 3"
    },
    "language_info": {
      "name": "python"
    }
  },
  "cells": [
    {
      "cell_type": "code",
      "execution_count": null,
      "metadata": {
        "colab": {
          "base_uri": "https://localhost:8080/"
        },
        "id": "i6EjfvOnyVnP",
        "outputId": "e7604abf-eff9-4da2-8480-7ee74557144d"
      },
      "outputs": [
        {
          "output_type": "stream",
          "name": "stdout",
          "text": [
            "6 7 [(0, 1), (0, 3), (0, 4), (1, 2), (1, 5), (2, 4), (3, 4)]\n"
          ]
        }
      ],
      "source": [
        "n = 6 #number of nodes\n",
        "e = 7 #number of edges\n",
        "\n",
        "edges = [(0,1), (0,3), (0,4), (1,2), (1,5), (2,4),(3,4)] #edges\n",
        "\n",
        "print(n,e,edges)"
      ]
    },
    {
      "cell_type": "code",
      "source": [
        "#adjacency list\n",
        "\n",
        "adjList = []\n",
        "\n",
        "for i in range(n):\n",
        "  adjList.append([])\n",
        "\n",
        "for edge in edges:\n",
        "  x = edge[0]\n",
        "  y = edge[1]\n",
        "\n",
        "  adjList[x].append(y)\n",
        "  adjList[y].append(x)\n",
        "\n",
        "for i in range(n):\n",
        "  print(i, \"->\", adjList[i])"
      ],
      "metadata": {
        "colab": {
          "base_uri": "https://localhost:8080/"
        },
        "id": "TRnePLx8zTI3",
        "outputId": "0614c4ae-51c9-41a8-b641-6feebdcd03fd"
      },
      "execution_count": null,
      "outputs": [
        {
          "output_type": "stream",
          "name": "stdout",
          "text": [
            "0 -> [1, 3, 4]\n",
            "1 -> [0, 2, 5]\n",
            "2 -> [1, 4]\n",
            "3 -> [0, 4]\n",
            "4 -> [0, 2, 3]\n",
            "5 -> [1]\n"
          ]
        }
      ]
    },
    {
      "cell_type": "code",
      "source": [
        "#adjacency matrix\n",
        "\n",
        "adjMatrix = []\n",
        "\n",
        "for i in range(n):\n",
        "  adjMatrix.append([-1]*n)\n",
        "\n",
        "for edge in edges:\n",
        "  x = edge[0]\n",
        "  y = edge[1]\n",
        "\n",
        "  adjMatrix[x][y] = 1\n",
        "  adjMatrix[y][x] = 1\n",
        "\n",
        "for i in range(n):\n",
        "  print(i, \"->\", adjMatrix[i])\n"
      ],
      "metadata": {
        "colab": {
          "base_uri": "https://localhost:8080/"
        },
        "id": "RmEs1lb521rq",
        "outputId": "b5fd45da-0d24-4b4d-ed6c-cfad55da110b"
      },
      "execution_count": null,
      "outputs": [
        {
          "output_type": "stream",
          "name": "stdout",
          "text": [
            "0 -> [-1, 1, -1, 1, 1, -1]\n",
            "1 -> [1, -1, 1, -1, -1, 1]\n",
            "2 -> [-1, 1, -1, -1, 1, -1]\n",
            "3 -> [1, -1, -1, -1, 1, -1]\n",
            "4 -> [1, -1, 1, 1, -1, -1]\n",
            "5 -> [-1, 1, -1, -1, -1, -1]\n"
          ]
        }
      ]
    },
    {
      "cell_type": "code",
      "source": [
        "#adjacency list\n",
        "\n",
        "adjList = []\n",
        "\n",
        "for i in range(n):\n",
        "  adjList.append([])\n",
        "\n",
        "for edge in edges:\n",
        "  x = edge[0]\n",
        "  y = edge[1]\n",
        "\n",
        "  adjList[x].append(y)\n",
        "  adjList[y].append(x)\n",
        "\n",
        "for i in range(n):\n",
        "  print(i, \"->\", adjList[i])"
      ],
      "metadata": {
        "colab": {
          "base_uri": "https://localhost:8080/"
        },
        "id": "TAnzUVHU9H2f",
        "outputId": "0001a3f3-b46e-4f50-ce7f-fd047340f57a"
      },
      "execution_count": null,
      "outputs": [
        {
          "output_type": "stream",
          "name": "stdout",
          "text": [
            "0 -> [1, 3, 4]\n",
            "1 -> [0, 2, 5]\n",
            "2 -> [1, 4]\n",
            "3 -> [0, 4]\n",
            "4 -> [0, 2, 3]\n",
            "5 -> [1]\n"
          ]
        }
      ]
    },
    {
      "cell_type": "code",
      "source": [
        "class Queue:\n",
        "  def __init__(self):\n",
        "    self.q = []\n",
        "    self.front = -1\n",
        "\n",
        "  def push(self,x):\n",
        "    if self.front == -1:\n",
        "      self.front = 0\n",
        "    self.q.append(x)\n",
        "\n",
        "  def pop(self):\n",
        "    if len(self.q) == 0:\n",
        "      return -1\n",
        "    x = self.q[self.front]\n",
        "    self.front+=1\n",
        "    if self.front == len(self.q):\n",
        "      self.front = -1\n",
        "      self.q = []\n",
        "    return x\n",
        "\n",
        "  def getFront(self):\n",
        "    if len(self.q) == 0:\n",
        "      return -1\n",
        "    return self.q[self.front]\n",
        "\n",
        "  def size(self):\n",
        "    if self.front == -1:\n",
        "      return 0\n",
        "    return len(self.q) - self.front\n"
      ],
      "metadata": {
        "id": "wn890MUJ4amU"
      },
      "execution_count": null,
      "outputs": []
    },
    {
      "cell_type": "code",
      "source": [
        "#BFS\n",
        "\n",
        "q = Queue()\n",
        "visited = [False]*n\n",
        "ans = []\n",
        "\n",
        "q.push(0)\n",
        "visited[0]=True\n",
        "ans.append(0)\n",
        "\n",
        "while q.size()>0:\n",
        "  front = q.pop()\n",
        "  for x in adjList[front]:\n",
        "    if not visited[x]:\n",
        "      q.push(x)\n",
        "      visited[x]=True\n",
        "      ans.append(x)\n",
        "\n",
        "\n",
        "print(ans)"
      ],
      "metadata": {
        "colab": {
          "base_uri": "https://localhost:8080/"
        },
        "id": "39IrsYdl9MTM",
        "outputId": "bca30c98-efd5-4ee8-8715-3011adc06536"
      },
      "execution_count": null,
      "outputs": [
        {
          "output_type": "stream",
          "name": "stdout",
          "text": [
            "[0, 1, 3, 4, 2, 5]\n"
          ]
        }
      ]
    },
    {
      "cell_type": "code",
      "source": [
        "class Stack:\n",
        "  def __init__(self):\n",
        "    self.st = []\n",
        "\n",
        "  def push(self, x):\n",
        "    self.st.append(x)\n",
        "\n",
        "  def pop(self):\n",
        "    if len(self.st) == 0:\n",
        "      return -1\n",
        "    x = self.st[-1]\n",
        "    self.st.pop()\n",
        "    return x\n",
        "\n",
        "  def top(self):\n",
        "    if len(self.st) == 0:\n",
        "      return -1\n",
        "    return self.st[-1]\n",
        "\n",
        "  def size(self):\n",
        "    return len(self.st)"
      ],
      "metadata": {
        "id": "HQmC2uCO9SjP"
      },
      "execution_count": null,
      "outputs": []
    },
    {
      "cell_type": "code",
      "source": [
        "#DFS\n",
        "\n",
        "stack = Stack()\n",
        "visited = [False]*n\n",
        "ans = []\n",
        "\n",
        "stack.push(0)\n",
        "visited[0]=True\n",
        "\n",
        "\n",
        "while stack.size()>0:\n",
        "  top = stack.pop()\n",
        "  ans.append(top)\n",
        "  for x in adjList[top]:\n",
        "    if not visited[x]:\n",
        "      stack.push(x)\n",
        "      visited[x]=True\n",
        "\n",
        "print(ans)"
      ],
      "metadata": {
        "colab": {
          "base_uri": "https://localhost:8080/"
        },
        "id": "8FmY7PY_iolQ",
        "outputId": "adfd3cad-51ad-4982-bf95-9e80d8b3bdeb"
      },
      "execution_count": null,
      "outputs": [
        {
          "output_type": "stream",
          "name": "stdout",
          "text": [
            "[0, 4, 2, 3, 1, 5]\n"
          ]
        }
      ]
    },
    {
      "cell_type": "code",
      "source": [
        "visited = [False]*n\n",
        "ans = []\n",
        "\n",
        "def dfs(i, adjList, visited):\n",
        "  visited[i]=True\n",
        "  ans.append(i)\n",
        "  for x in adjList[i]:\n",
        "    if not visited[x]:\n",
        "      dfs(x, adjList, visited)\n",
        "\n",
        "dfs(0, adjList, visited)\n",
        "print(ans)"
      ],
      "metadata": {
        "colab": {
          "base_uri": "https://localhost:8080/"
        },
        "id": "BTgg08J0jCOf",
        "outputId": "141b8940-4d63-46fc-972e-a991edcab3db"
      },
      "execution_count": null,
      "outputs": [
        {
          "output_type": "stream",
          "name": "stdout",
          "text": [
            "[0, 1, 2, 4, 3, 5]\n"
          ]
        }
      ]
    },
    {
      "cell_type": "code",
      "source": [
        "#Detect Cycle in an Undirected Graph\n",
        "\n",
        "visited = [False]*n\n",
        "\n",
        "def dfs(i, parent, adjList, visited):\n",
        "  visited[i]=True\n",
        "\n",
        "  for x in adjList[i]:\n",
        "    if x==parent:\n",
        "      continue\n",
        "    if visited[x]:\n",
        "      return True\n",
        "    if dfs(x, i, adjList, visited):\n",
        "      return True\n",
        "\n",
        "  return False\n",
        "\n",
        "dfs(0, -1, adjList, visited)"
      ],
      "metadata": {
        "colab": {
          "base_uri": "https://localhost:8080/"
        },
        "id": "KRzxeH5km4OI",
        "outputId": "a01540e7-b3f7-4bad-a138-48e919bbed75"
      },
      "execution_count": null,
      "outputs": [
        {
          "output_type": "execute_result",
          "data": {
            "text/plain": [
              "True"
            ]
          },
          "metadata": {},
          "execution_count": 17
        }
      ]
    },
    {
      "cell_type": "code",
      "source": [
        "\n",
        "\n",
        "\n",
        "adjList2 = [\n",
        "    [1,3,4],\n",
        "    [0,2],\n",
        "    [1],\n",
        "    [0],\n",
        "    [0]\n",
        "]\n",
        "\n",
        "visited = [False]*n\n",
        "\n",
        "def dfs(i, parent, adjList, visited):\n",
        "  visited[i]=True\n",
        "\n",
        "  for x in adjList[i]:\n",
        "    if x==parent:\n",
        "      continue\n",
        "    if visited[x]:\n",
        "      return True\n",
        "    if dfs(x, i, adjList, visited):\n",
        "      return True\n",
        "\n",
        "  return False\n",
        "\n",
        "dfs(0, -1, adjList2, visited)"
      ],
      "metadata": {
        "colab": {
          "base_uri": "https://localhost:8080/"
        },
        "id": "LX-JVC6-orX1",
        "outputId": "202bae8d-076e-47e6-b59a-300c26c8918b"
      },
      "execution_count": null,
      "outputs": [
        {
          "output_type": "execute_result",
          "data": {
            "text/plain": [
              "False"
            ]
          },
          "metadata": {},
          "execution_count": 18
        }
      ]
    },
    {
      "cell_type": "code",
      "source": [
        "#Number of Components / Number of Provinces\n",
        "\n",
        "\n",
        "from typing import List\n",
        "\n",
        "class Solution:\n",
        "  def dfs(self, i, adjMatrix, visited):\n",
        "    visited[i]=True\n",
        "  for x in range(len(adjMatrix[i])):\n",
        "    if adjMatrix[i][x] == 1 and not visited[x]:\n",
        "      self.dfs(x, adjList, visited)\n",
        "\n",
        "def findCircleNum(self, isConnected: List[List[int]]) -> int:\n",
        "  n = len(isConnected)\n",
        "  visited = [False]*n\n",
        "  ans = 0\n",
        "  self.dfs(0, isConnected)\n",
        "  for i in range(n):\n",
        "    if not visited[i]:\n",
        "      self.dfs(i, isConnected, visited)\n",
        "      ans+=1\n",
        "\n",
        "  return ans\n",
        "\n"
      ],
      "metadata": {
        "id": "KHUSFP7_pMuR"
      },
      "execution_count": null,
      "outputs": []
    },
    {
      "cell_type": "code",
      "source": [
        "#Dijkstra's Algorithm\n",
        "\n",
        "\n",
        "#!/bin/python3\n",
        "\n",
        "import math\n",
        "import os\n",
        "import random\n",
        "import re\n",
        "import sys\n",
        "from heapq import heappush, heappop\n",
        "\n",
        "#\n",
        "# Complete the 'shortestReach' function below.\n",
        "#\n",
        "# The function is expected to return an INTEGER_ARRAY.\n",
        "# The function accepts following parameters:\n",
        "#  1. INTEGER n\n",
        "#  2. 2D_INTEGER_ARRAY edges\n",
        "#  3. INTEGER s\n",
        "#\n",
        "\n",
        "def shortestReach(n, edges, s):\n",
        "    # Write your code here\n",
        "\n",
        "    adjList = []\n",
        "\n",
        "    for i in range(n):\n",
        "        adjList.append([])\n",
        "\n",
        "    for edge in edges:\n",
        "        x = edge[0]-1\n",
        "        y = edge[1]-1\n",
        "        w = edge[2]\n",
        "\n",
        "        adjList[x].append([y,w])\n",
        "        adjList[y].append([x,w])\n",
        "\n",
        "\n",
        "\n",
        "    heap = []\n",
        "    dist = [float(\"inf\")]*n\n",
        "\n",
        "\n",
        "    dist[s] = 0\n",
        "    heappush(heap,(dist[s],s))\n",
        "\n",
        "    while len(heap)>0:\n",
        "        d,u = heappop(heap)\n",
        "        for v, w in adjList[u]:\n",
        "            if dist[u] + w < dist[v]:\n",
        "                dist[v] = dist[u] + w\n",
        "                heappush(heap, (dist[v],v))\n",
        "\n",
        "    result = []\n",
        "    for i in range(n):\n",
        "        if i == s:\n",
        "            continue\n",
        "        elif dist[i]==float(\"inf\"):\n",
        "            result.append(-1)\n",
        "        else:\n",
        "            result.append(dist[i])\n",
        "\n",
        "    return result\n",
        "\n",
        "if __name__ == '__main__':\n",
        "    fptr = open(os.environ['OUTPUT_PATH'], 'w')\n",
        "\n",
        "    t = int(input().strip())\n",
        "\n",
        "    for t_itr in range(t):\n",
        "        first_multiple_input = input().rstrip().split()\n",
        "\n",
        "        n = int(first_multiple_input[0])\n",
        "\n",
        "        m = int(first_multiple_input[1])\n",
        "\n",
        "        edges = []\n",
        "\n",
        "        for _ in range(m):\n",
        "            edges.append(list(map(int, input().rstrip().split())))\n",
        "\n",
        "        s = int(input().strip())\n",
        "\n",
        "        result = shortestReach(n, edges, s)\n",
        "\n",
        "        fptr.write(' '.join(map(str, result)))\n",
        "        fptr.write('\\n')\n",
        "\n",
        "    fptr.close()\n"
      ],
      "metadata": {
        "id": "4S0MIXC_w80W",
        "colab": {
          "base_uri": "https://localhost:8080/",
          "height": 245
        },
        "outputId": "0970ca32-95ed-4d37-b3db-240afbff19cf"
      },
      "execution_count": null,
      "outputs": [
        {
          "output_type": "error",
          "ename": "KeyError",
          "evalue": "'OUTPUT_PATH'",
          "traceback": [
            "\u001b[0;31m---------------------------------------------------------------------------\u001b[0m",
            "\u001b[0;31mKeyError\u001b[0m                                  Traceback (most recent call last)",
            "\u001b[0;32m/tmp/ipython-input-315626982.py\u001b[0m in \u001b[0;36m<cell line: 0>\u001b[0;34m()\u001b[0m\n\u001b[1;32m     65\u001b[0m \u001b[0;34m\u001b[0m\u001b[0m\n\u001b[1;32m     66\u001b[0m \u001b[0;32mif\u001b[0m \u001b[0m__name__\u001b[0m \u001b[0;34m==\u001b[0m \u001b[0;34m'__main__'\u001b[0m\u001b[0;34m:\u001b[0m\u001b[0;34m\u001b[0m\u001b[0;34m\u001b[0m\u001b[0m\n\u001b[0;32m---> 67\u001b[0;31m     \u001b[0mfptr\u001b[0m \u001b[0;34m=\u001b[0m \u001b[0mopen\u001b[0m\u001b[0;34m(\u001b[0m\u001b[0mos\u001b[0m\u001b[0;34m.\u001b[0m\u001b[0menviron\u001b[0m\u001b[0;34m[\u001b[0m\u001b[0;34m'OUTPUT_PATH'\u001b[0m\u001b[0;34m]\u001b[0m\u001b[0;34m,\u001b[0m \u001b[0;34m'w'\u001b[0m\u001b[0;34m)\u001b[0m\u001b[0;34m\u001b[0m\u001b[0;34m\u001b[0m\u001b[0m\n\u001b[0m\u001b[1;32m     68\u001b[0m \u001b[0;34m\u001b[0m\u001b[0m\n\u001b[1;32m     69\u001b[0m     \u001b[0mt\u001b[0m \u001b[0;34m=\u001b[0m \u001b[0mint\u001b[0m\u001b[0;34m(\u001b[0m\u001b[0minput\u001b[0m\u001b[0;34m(\u001b[0m\u001b[0;34m)\u001b[0m\u001b[0;34m.\u001b[0m\u001b[0mstrip\u001b[0m\u001b[0;34m(\u001b[0m\u001b[0;34m)\u001b[0m\u001b[0;34m)\u001b[0m\u001b[0;34m\u001b[0m\u001b[0;34m\u001b[0m\u001b[0m\n",
            "\u001b[0;32m/usr/lib/python3.12/os.py\u001b[0m in \u001b[0;36m__getitem__\u001b[0;34m(self, key)\u001b[0m\n",
            "\u001b[0;31mKeyError\u001b[0m: 'OUTPUT_PATH'"
          ]
        }
      ]
    },
    {
      "cell_type": "code",
      "source": [
        "# Prim's Algorithm\n",
        "\n",
        "adjMatrix = [[0, 9, 75, 0, 0],\n",
        "     [9,0,95,19,42],\n",
        "     [75,95,0,51,66],\n",
        "     [0,19,51, 0, 31],\n",
        "     [0,42,66,31,0]\n",
        "]\n",
        "\n",
        "\n",
        "n=5\n",
        "visited = [False]*n\n",
        "visited[0]=True\n",
        "ans = 0\n",
        "for _ in range(n-1):  # n-1 edges\n",
        "  x = -1\n",
        "  y = -1\n",
        "  mn = float(\"inf\")\n",
        "  for i in range(n):\n",
        "    for j in range(n):\n",
        "      if adjMatrix[i][j] != 0 and visited[i] and not visited[j]:\n",
        "        if adjMatrix[i][j] < mn:\n",
        "          mn = adjMatrix[i][j]\n",
        "          x = i\n",
        "          y = j\n",
        "  ans+=mn\n",
        "  visited[y]=True\n",
        "\n",
        "print(ans)"
      ],
      "metadata": {
        "id": "IsKgH-thl2gx",
        "colab": {
          "base_uri": "https://localhost:8080/"
        },
        "outputId": "25f07e4c-1b4b-44dd-fd3b-d5a4d3f00d80"
      },
      "execution_count": 2,
      "outputs": [
        {
          "output_type": "stream",
          "name": "stdout",
          "text": [
            "110\n"
          ]
        }
      ]
    },
    {
      "cell_type": "code",
      "source": [],
      "metadata": {
        "id": "z0ECTrBIhuhY"
      },
      "execution_count": null,
      "outputs": []
    }
  ]
}